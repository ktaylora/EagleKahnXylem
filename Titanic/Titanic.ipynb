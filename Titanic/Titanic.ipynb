{
  "nbformat": 4,
  "nbformat_minor": 0,
  "metadata": {
    "colab": {
      "name": "Titanic.ipynb",
      "provenance": [],
      "collapsed_sections": []
    },
    "kernelspec": {
      "name": "python3",
      "display_name": "Python 3"
    }
  },
  "cells": [
    {
      "cell_type": "markdown",
      "metadata": {
        "id": "NCqEaZ8bZibe"
      },
      "source": [
        "Left \"Cabin\" out of the ensembles, mainly because I couldn't get a significant effect in a first run of random forests modeling (in R). There may be some value to it if we could figure out a way to convert cabin to distance from main deck.\n",
        "\n",
        "Bootstrapped logistic regression and random forests had very similar results. They both tend to have higher omission error than comission error. But overall accuracy is ~0.7-0.8 for both, which I would call \"good\". I think Random Forests might be a little better at handling interactions, which I left out completely from my logistic regression. We might consider ensembling predictions from both models."
      ]
    },
    {
      "cell_type": "code",
      "metadata": {
        "id": "HcqzVM0HMaXu"
      },
      "source": [
        "import pandas as pd\n",
        "import numpy as np\n",
        "from math import sqrt\n",
        "from sklearn.linear_model import LogisticRegression \n",
        "from sklearn.ensemble import RandomForestClassifier"
      ],
      "execution_count": null,
      "outputs": []
    },
    {
      "cell_type": "code",
      "metadata": {
        "id": "VHS79gl8MoFd"
      },
      "source": [
        "training_data = pd.read_csv(\"/content/drive/MyDrive/Data/Titanic/train.csv\")"
      ],
      "execution_count": null,
      "outputs": []
    },
    {
      "cell_type": "code",
      "metadata": {
        "id": "CGsuvcLsNqgl"
      },
      "source": [
        "K : int = 9999"
      ],
      "execution_count": null,
      "outputs": []
    },
    {
      "cell_type": "code",
      "metadata": {
        "id": "pMfKDUKKO1Lf"
      },
      "source": [
        "def shuffle(df : pd.DataFrame, balance_classes : bool = False, \n",
        "                      response : str =\"Survived\", frac : float = 1.0):\n",
        "  \"\"\" randomly shuffle an input pandas dataframe object, optionally \n",
        "  enforcing balanced classes for a given response variable if asked \"\"\"\n",
        "  categories : np.array = np.unique(df[response])\n",
        "  if balance_classes:\n",
        "    class_counts : list[int] = [ \n",
        "      np.sum(df[response] == category) \n",
        "      for category in categories ]\n",
        "    min_count = np.min(class_counts)\n",
        "    df = pd.concat([ \n",
        "        df[ df[response] == c ].sample(n=min_count) \n",
        "        for c in categories ])\n",
        "  else:\n",
        "    df = df.sample(n=len(df))\n",
        "  # wrap a pandas call to optionally split our dataframe\n",
        "  # into testing / training combinations if a frac= argument\n",
        "  # was applied\n",
        "  if frac is not 1.0:\n",
        "    train_set = df.copy().sample(frac=frac)\n",
        "    test_set = df.copy().drop(train_set.index)\n",
        "    return {'training': train_set, 'testing': test_set}\n",
        "  else:\n",
        "    return {'training': df}\n",
        "\n",
        "def mean_center(df : pd.DataFrame):\n",
        "  \"\"\" mean-variance center continuous variables in a dataframe as a pre-cursor\n",
        "  to least-squares regression. This is important if you want to analyze effects\n",
        "  sizes from the fitted regression parameters.\"\"\"\n",
        "  r = df.copy()\n",
        "  return { \n",
        "    'mean': r.mean(),\n",
        "    'sd' : r.std(),\n",
        "    'scaled' : r.\\\n",
        "      subtract(r.mean()).\\\n",
        "      divide(r.std()) }\n",
        "\n",
        "def string_to_ordinal(v : str):\n",
        "  \"\"\" convert the individual characters in a string to \n",
        "  ordinal integer values as an alternative to working\n",
        "  with categorical string values as predictors\"\"\"\n",
        "  return np.sum([ ord(c) for c in str(v) ])\n",
        "\n",
        "def scale(df : pd.DataFrame, scale : dict):\n",
        "  \"\"\" apply a z-transformation (centering) to some dataframe\"\"\"\n",
        "  return ( df - scale['mean'] ) / scale['sd']\n",
        "\n",
        "def unscale(df : pd.DataFrame, scale : dict):\n",
        "  \"\"\" back-transform a centered data.frame to its original values \"\"\"\n",
        "  pass\n",
        "\n",
        "def get_interactions(df, variables, categoricals):\n",
        "  pass\n",
        "\n",
        "def get_weights(results_bs):\n",
        "  pass\n",
        "\n",
        "def mse(predicted : np.array, observed : np.array):\n",
        "  return (1/len(predicted)) * np.sum((observed - predicted)**2) \n",
        "\n",
        "def accuracy(observed : np.array, predicted : np.array):\n",
        "  # correct (total) / total\n",
        "  return np.sum(observed == predicted) / len(observed)\n",
        "\n",
        "def omission(observed : np.array, predicted : np.array):\n",
        "  \"\"\" type one error estimator from observed vs. predicted values \"\"\"\n",
        "  # incorrect (zeros) / total (zeros)\n",
        "  zeros : np.array = (observed == 0)\n",
        "  return np.sum( observed[zeros] != predicted[zeros] ) / np.sum(zeros)\n",
        "\n",
        "def commission(observed : np.array, predicted : np.array):\n",
        "  \"\"\" type two error estimator from observed vs. predicted values \"\"\"\n",
        "  # incorrect (ones) / total (ones)\n",
        "  ones : np.array = (observed == 1)\n",
        "  return np.sum( observed[ones] != predicted[ones] ) / np.sum(ones)\n",
        "\n",
        "def encode_design_matrix(df : pd.DataFrame, variables : list = [], \n",
        "  dummy_variables : list = [], normalize : bool = True):\n",
        "  \"\"\" accepts an input pandas dataframe and optionally normalizes columns and \n",
        "  creates dummy variables for categoricals as a pre-cursor to fitting a model\n",
        "  in scikit\"\"\"\n",
        "  if normalize:\n",
        "    normalized = mean_center(df[variables])\n",
        "  else:\n",
        "    normalized = df[variables]\n",
        "  if len(dummy_variables) > 0:\n",
        "    if normalize:\n",
        "      x = normalized['scaled'].join(df[dummy_variables])\n",
        "    else:\n",
        "      x = normalized.join(df[dummy_variables])\n",
        "    var_names = list(\n",
        "      pd.get_dummies(x[variables + dummy_variables]).columns)\n",
        "    x = pd.get_dummies(x[variables + dummy_variables]).to_numpy().\\\n",
        "      reshape(-1, len(var_names))\n",
        "  else:\n",
        "    var_names = list(normalized.columns)\n",
        "    x = normalized.to_numpy().reshape(-1, len(var_names))\n",
        "  \n",
        "  result = {'x':x, 'variables':var_names }\n",
        "  \n",
        "  if normalize:\n",
        "    result['scale'] = { k: normalized[k] for k in ('mean','sd') }\n",
        "  \n",
        "  return result\n",
        "\n",
        "def fit_logistic_regression(df, variables : list = [], \n",
        "  dummy_variables : list = [], response= \"Survived\", normalize : bool = True):\n",
        "  \"\"\" \"\"\"\n",
        "  training_df = df.copy().dropna()\n",
        "\n",
        "  design_matrix = encode_design_matrix(\n",
        "      training_df, variables, \n",
        "      dummy_variables, normalize)\n",
        "\n",
        "  y = list(training_df[response])\n",
        "\n",
        "  logistic_regression = LogisticRegression(random_state=0)\n",
        "\n",
        "  return {\n",
        "      'model': logistic_regression.fit(design_matrix['x'], y),\n",
        "      'variables' : design_matrix['variables'],\n",
        "      'scale': design_matrix['scale'] }\n",
        "\n",
        "def fit_random_forests(df, variables : list = [], dummy_variables : list = [], \n",
        "  response= \"Survived\", normalize : bool = False, **kwargs):\n",
        "  \"\"\" \"\"\"\n",
        "  training_df = df.copy().dropna()\n",
        "\n",
        "  design_matrix = encode_design_matrix(\n",
        "      training_df, variables, \n",
        "      dummy_variables, normalize)  \n",
        "\n",
        "  y = list(training_df[response])\n",
        "  \n",
        "  random_forests = RandomForestClassifier(random_state=0, **kwargs)\n",
        "\n",
        "  result = {\n",
        "      'model': random_forests.fit(design_matrix['x'], y),\n",
        "      'variables' : design_matrix['variables'] }\n",
        "\n",
        "  if normalize: \n",
        "    result['scale'] = design_matrix['scale'] \n",
        "\n",
        "  return result\n",
        "\n",
        "def predict(m : None, x : pd.DataFrame, variables: list = None, scale : dict = None):\n",
        "  \"\"\" converts a design matrix (dataframe) into a numpy array that we can \n",
        "  predict across \"\"\"\n",
        "  if isinstance(x, pd.DataFrame):\n",
        "    x = x[variables].to_numpy().reshape(-1, len(variables))\n",
        "  return m.predict(x)\n",
        "\n",
        "def cross_validation(results : list, k_folds : list, variables : list, \n",
        "  dummy_variables : list = [], apply_scale : bool = False, response : str =\"Survived\"):\n",
        "  \"\"\" assess accuracy and error for a series of k model replicates using k-folds\n",
        "  cross-validation \"\"\"\n",
        "\n",
        "  for i in range(len(results)):\n",
        "    \n",
        "    testing_df = k_folds[i]['testing'].dropna()\n",
        "\n",
        "    # case: we need to rescale our variables using an external\n",
        "    # parameterization \n",
        "    if apply_scale:\n",
        "\n",
        "      scale_params = results[i]['scale']\n",
        "\n",
        "      if len(dummy_variables) > 0:\n",
        "        design_matrix = encode_design_matrix(\n",
        "            scale(testing_df[variables], scale_params).join(testing_df[dummy_variables]), \n",
        "            variables=variables, dummy_variables=dummy_variables, normalize=False)\n",
        "      else:\n",
        "        design_matrix = encode_design_matrix(\n",
        "            scale(testing_df[variables], scale_params), \n",
        "            variables=variables, normalize=False)\n",
        "    # case: no application of scale parameters\n",
        "    else:\n",
        "        if len(dummy_variables) > 0:\n",
        "          design_matrix = encode_design_matrix(\n",
        "              testing_df[variables].join(testing_df[dummy_variables]), \n",
        "              variables=variables, dummy_variables=dummy_variables, normalize=False)\n",
        "        else:\n",
        "          design_matrix = encode_design_matrix(\n",
        "              testing_df[variables], \n",
        "              variables=variables, normalize=False)\n",
        "        \n",
        "    observed = testing_df[response]\n",
        "    predicted = predict(\n",
        "        m=results[i][\"model\"], \n",
        "        x=design_matrix['x'])\n",
        "    \n",
        "    yield ( \n",
        "        accuracy(observed, predicted),\n",
        "        omission(observed, predicted),\n",
        "        commission(observed, predicted) )\n",
        "\n",
        "def std_effect_sizes(results : list):\n",
        "  n : int = len(results)\n",
        "  effects = pd.DataFrame([ \n",
        "    pd.concat([ coefficients(r) for r in results ]).mean(), \n",
        "    pd.concat([ coefficients(r) for r in results ]).std() / sqrt(n) ]).\\\n",
        "      transpose()\n",
        "  effects.columns = ['est', 'se']\n",
        "  return effects\n",
        "\n",
        "def coefficients(regression):\n",
        "  # for logitic regression\n",
        "  if regression['model'].coef_.shape[0] == 1:\n",
        "    coefficients = np.array([\n",
        "      regression['model'].intercept_[0]] + list(regression['model'].coef_[0]))\n",
        "  # for standard regression\n",
        "  else:\n",
        "    coefficients = np.array([\n",
        "      regression['model'].intercept_] + list(regression['model'].coef_))\n",
        "  n : int = len(coefficients)\n",
        "  coefficients = pd.DataFrame(coefficients.reshape(-1,n))\n",
        "  coefficients.columns = [\"Intercept\"] + regression['variables']\n",
        "  return coefficients"
      ],
      "execution_count": null,
      "outputs": []
    },
    {
      "cell_type": "code",
      "metadata": {
        "colab": {
          "base_uri": "https://localhost:8080/",
          "height": 218
        },
        "id": "UgDVlKX3H01r",
        "outputId": "24f85fef-e3d7-4e0f-9ed0-5ccbbd7129b3"
      },
      "source": [
        "from seaborn import pairplot\n",
        "pairplot(training_data, y_vars=['Survived'])"
      ],
      "execution_count": null,
      "outputs": [
        {
          "output_type": "execute_result",
          "data": {
            "text/plain": [
              "<seaborn.axisgrid.PairGrid at 0x7fdc96ddd850>"
            ]
          },
          "metadata": {
            "tags": []
          },
          "execution_count": 5
        },
        {
          "output_type": "display_data",
          "data": {
            "image/png": "[encoded data removed]",
            "text/plain": [
              "<Figure size 1260x180 with 8 Axes>"
            ]
          },
          "metadata": {
            "tags": [],
            "needs_background": "light"
          }
        }
      ]
    },
    {
      "cell_type": "code",
      "metadata": {
        "id": "2eN3EpeYWl3m"
      },
      "source": [
        "training_data['Ticket'] = [ string_to_ordinal(x) for x in training_data['Ticket'] ]"
      ],
      "execution_count": null,
      "outputs": []
    },
    {
      "cell_type": "code",
      "metadata": {
        "id": "akw5pJZ2haPL"
      },
      "source": [
        "# use a 70/30 split for training/testing for bootstrapping\n",
        "# and k-folds cross-validation\n",
        "main_effects = ['Age', 'Fare','Ticket','Pclass','SibSp']\n",
        "k_folds = [ \n",
        "  shuffle(training_data, balance_classes=True, frac=0.7) \n",
        "  for i in range(K) ]\n",
        "# bootstrap our logistic regression for estimating a confidence\n",
        "# interval (standard error) and mean effect sizes from standardized\n",
        "# coefficients\n",
        "logistic_regressions = [ fit_logistic_regression(\n",
        "    df['training'], variables = main_effects, \n",
        "    dummy_variables = ['Sex']) for df in k_folds ]"
      ],
      "execution_count": null,
      "outputs": []
    },
    {
      "cell_type": "code",
      "metadata": {
        "colab": {
          "base_uri": "https://localhost:8080/",
          "height": 297
        },
        "id": "nejzJta-8Zf8",
        "outputId": "2cd3076b-3693-4374-97bd-03292c3135e9"
      },
      "source": [
        "# grab the coefficients and standard error values from our bootstrapped \n",
        "# logistic regression classifiers\n",
        "std_effect_sizes(logistic_regressions)"
      ],
      "execution_count": null,
      "outputs": [
        {
          "output_type": "execute_result",
          "data": {
            "text/html": [
              "<div>\n",
              "<style scoped>\n",
              "    .dataframe tbody tr th:only-of-type {\n",
              "        vertical-align: middle;\n",
              "    }\n",
              "\n",
              "    .dataframe tbody tr th {\n",
              "        vertical-align: top;\n",
              "    }\n",
              "\n",
              "    .dataframe thead th {\n",
              "        text-align: right;\n",
              "    }\n",
              "</style>\n",
              "<table border=\"1\" class=\"dataframe\">\n",
              "  <thead>\n",
              "    <tr style=\"text-align: right;\">\n",
              "      <th></th>\n",
              "      <th>est</th>\n",
              "      <th>se</th>\n",
              "    </tr>\n",
              "  </thead>\n",
              "  <tbody>\n",
              "    <tr>\n",
              "      <th>Intercept</th>\n",
              "      <td>1.641831</td>\n",
              "      <td>0.002211</td>\n",
              "    </tr>\n",
              "    <tr>\n",
              "      <th>Age</th>\n",
              "      <td>-0.543085</td>\n",
              "      <td>0.002026</td>\n",
              "    </tr>\n",
              "    <tr>\n",
              "      <th>Fare</th>\n",
              "      <td>0.058906</td>\n",
              "      <td>0.001870</td>\n",
              "    </tr>\n",
              "    <tr>\n",
              "      <th>Ticket</th>\n",
              "      <td>0.028484</td>\n",
              "      <td>0.002075</td>\n",
              "    </tr>\n",
              "    <tr>\n",
              "      <th>Pclass</th>\n",
              "      <td>-0.265599</td>\n",
              "      <td>0.002670</td>\n",
              "    </tr>\n",
              "    <tr>\n",
              "      <th>SibSp</th>\n",
              "      <td>0.098592</td>\n",
              "      <td>0.002210</td>\n",
              "    </tr>\n",
              "    <tr>\n",
              "      <th>Sex_female</th>\n",
              "      <td>1.209219</td>\n",
              "      <td>0.001747</td>\n",
              "    </tr>\n",
              "    <tr>\n",
              "      <th>Sex_male</th>\n",
              "      <td>-1.209214</td>\n",
              "      <td>0.001747</td>\n",
              "    </tr>\n",
              "  </tbody>\n",
              "</table>\n",
              "</div>"
            ],
            "text/plain": [
              "                 est        se\n",
              "Intercept   1.641831  0.002211\n",
              "Age        -0.543085  0.002026\n",
              "Fare        0.058906  0.001870\n",
              "Ticket      0.028484  0.002075\n",
              "Pclass     -0.265599  0.002670\n",
              "SibSp       0.098592  0.002210\n",
              "Sex_female  1.209219  0.001747\n",
              "Sex_male   -1.209214  0.001747"
            ]
          },
          "metadata": {
            "tags": []
          },
          "execution_count": 8
        }
      ]
    },
    {
      "cell_type": "code",
      "metadata": {
        "id": "XCXtJRDYpRD5"
      },
      "source": [
        "lreg_cv_results = pd.DataFrame(cross_validation(\n",
        "  logistic_regressions, k_folds=k_folds, variables=main_effects, \n",
        "  dummy_variables=[\"Sex\"], apply_scale = True))"
      ],
      "execution_count": null,
      "outputs": []
    },
    {
      "cell_type": "code",
      "metadata": {
        "colab": {
          "base_uri": "https://localhost:8080/"
        },
        "id": "-FPYKFZgw45n",
        "outputId": "24b6d3fb-3e64-4081-ac8d-917460eab951"
      },
      "source": [
        "lreg_cv_results[2]"
      ],
      "execution_count": null,
      "outputs": [
        {
          "output_type": "execute_result",
          "data": {
            "text/plain": [
              "0       0.100000\n",
              "1       0.111111\n",
              "2       0.189189\n",
              "3       0.022727\n",
              "4       0.136364\n",
              "          ...   \n",
              "9994    0.135135\n",
              "9995    0.100000\n",
              "9996    0.150000\n",
              "9997    0.121951\n",
              "9998    0.129032\n",
              "Name: 2, Length: 9999, dtype: float64"
            ]
          },
          "metadata": {
            "tags": []
          },
          "execution_count": 24
        }
      ]
    },
    {
      "cell_type": "code",
      "metadata": {
        "colab": {
          "base_uri": "https://localhost:8080/"
        },
        "id": "mo5OokyxRP4U",
        "outputId": "3f5e8445-cbf7-41d0-d50f-6339cc833fe6"
      },
      "source": [
        "from seaborn import histplot\n",
        "print( lreg_cv_results[0].mean(), (3 * lreg_cv_results[0].std())) \n",
        "#histplot(lreg_cv_results[0]"
      ],
      "execution_count": null,
      "outputs": [
        {
          "output_type": "stream",
          "text": [
            "0.7742355711156417 0.16471363532499866\n"
          ],
          "name": "stdout"
        }
      ]
    },
    {
      "cell_type": "code",
      "metadata": {
        "colab": {
          "base_uri": "https://localhost:8080/",
          "height": 307
        },
        "id": "O7frFI_wR0PS",
        "outputId": "519dc748-e16a-4a6c-b679-e0ec9de30170"
      },
      "source": [
        "print( ( np.mean(lreg_omission).round(3), (3 * np.std(lreg_omission)).round(3) ) )\n",
        "histplot(lreg_omission)"
      ],
      "execution_count": null,
      "outputs": [
        {
          "output_type": "stream",
          "text": [
            "(0.647, 0.558)\n"
          ],
          "name": "stdout"
        },
        {
          "output_type": "execute_result",
          "data": {
            "text/plain": [
              "<matplotlib.axes._subplots.AxesSubplot at 0x7f3b1414ec10>"
            ]
          },
          "metadata": {
            "tags": []
          },
          "execution_count": 11
        },
        {
          "output_type": "display_data",
          "data": {
            "image/png": "[encoded data removed]",
            "text/plain": [
              "<Figure size 432x288 with 1 Axes>"
            ]
          },
          "metadata": {
            "tags": [],
            "needs_background": "light"
          }
        }
      ]
    },
    {
      "cell_type": "code",
      "metadata": {
        "colab": {
          "base_uri": "https://localhost:8080/",
          "height": 307
        },
        "id": "JU8BrztxSJAv",
        "outputId": "dd111377-7449-490a-e2b3-26f750ff7cfa"
      },
      "source": [
        "print( ( np.mean(lreg_comission).round(3), (3 * np.std(lreg_comission)).round(3) ) )\n",
        "histplot(lreg_comission)"
      ],
      "execution_count": null,
      "outputs": [
        {
          "output_type": "stream",
          "text": [
            "(0.093, 0.183)\n"
          ],
          "name": "stdout"
        },
        {
          "output_type": "execute_result",
          "data": {
            "text/plain": [
              "<matplotlib.axes._subplots.AxesSubplot at 0x7f3b0a16a3d0>"
            ]
          },
          "metadata": {
            "tags": []
          },
          "execution_count": 12
        },
        {
          "output_type": "display_data",
          "data": {
            "image/png": "[encoded data removed]",
            "text/plain": [
              "<Figure size 432x288 with 1 Axes>"
            ]
          },
          "metadata": {
            "tags": [],
            "needs_background": "light"
          }
        }
      ]
    },
    {
      "cell_type": "code",
      "metadata": {
        "id": "vpImFQ4-TajV"
      },
      "source": [
        "# Fit an exploratory RF classifier across K replicates to these variables -- they seems to be\n",
        "# consistently important based on our regression modeling\n",
        "random_forests = [ fit_random_forests(\n",
        "  df['training'], variables = ['Age', 'Fare', 'Ticket', 'Pclass', 'SibSp'], dummy_variables=['Sex']) \n",
        "  for df in k_folds ]"
      ],
      "execution_count": null,
      "outputs": []
    },
    {
      "cell_type": "code",
      "metadata": {
        "id": "a559gXgES3eZ"
      },
      "source": [
        "rf_overall_accuracy = [] # Overall Accuracy\n",
        "rf_omission = [] # Type II Error\n",
        "rf_commission = [] # Type I Error\n",
        "for i in range(K):\n",
        "  testing_df = k_folds[i]['testing'].dropna()\n",
        "  \n",
        "  # build a design matrix -- random forests doesn't need centering\n",
        "  design_matrix = encode_design_matrix(\n",
        "      testing_df[main_effects].join(testing_df['Sex']), \n",
        "      variables=main_effects, dummy_variables=['Sex'], normalize=False)\n",
        "  \n",
        "  observed = testing_df['Survived']\n",
        "  predicted = predict(\n",
        "      m=random_forests[i][\"model\"], \n",
        "      x=design_matrix['x'])\n",
        "  \n",
        "  rf_overall_accuracy.append(accuracy(observed, predicted))\n",
        "  rf_omission.append(omission(observed, predicted))\n",
        "  rf_commission.append(commission(observed, predicted))"
      ],
      "execution_count": null,
      "outputs": []
    },
    {
      "cell_type": "code",
      "metadata": {
        "colab": {
          "base_uri": "https://localhost:8080/",
          "height": 307
        },
        "id": "wx1f9cD-TtvE",
        "outputId": "88f2bb8f-7c8c-4bae-b956-50ce08e161e2"
      },
      "source": [
        "print( ( np.mean(rf_overall_accuracy).round(3), (3 * np.std(rf_overall_accuracy)).round(3) ) )\n",
        "histplot(rf_overall_accuracy)"
      ],
      "execution_count": null,
      "outputs": [
        {
          "output_type": "stream",
          "text": [
            "(0.779, 0.164)\n"
          ],
          "name": "stdout"
        },
        {
          "output_type": "execute_result",
          "data": {
            "text/plain": [
              "<matplotlib.axes._subplots.AxesSubplot at 0x7f3b0a01c810>"
            ]
          },
          "metadata": {
            "tags": []
          },
          "execution_count": 15
        },
        {
          "output_type": "display_data",
          "data": {
            "image/png": "[encoded data removed]",
            "text/plain": [
              "<Figure size 432x288 with 1 Axes>"
            ]
          },
          "metadata": {
            "tags": [],
            "needs_background": "light"
          }
        }
      ]
    },
    {
      "cell_type": "code",
      "metadata": {
        "colab": {
          "base_uri": "https://localhost:8080/",
          "height": 307
        },
        "id": "QAxRLLxJT0QM",
        "outputId": "61f5e38e-9f4f-4419-e996-70a652c3db74"
      },
      "source": [
        "print( ( np.mean(rf_omission).round(3), (3 * np.std(rf_omission)).round(3) ) )\n",
        "histplot(rf_omission)"
      ],
      "execution_count": null,
      "outputs": [
        {
          "output_type": "stream",
          "text": [
            "(0.604, 0.486)\n"
          ],
          "name": "stdout"
        },
        {
          "output_type": "execute_result",
          "data": {
            "text/plain": [
              "<matplotlib.axes._subplots.AxesSubplot at 0x7f3ae4f589d0>"
            ]
          },
          "metadata": {
            "tags": []
          },
          "execution_count": 16
        },
        {
          "output_type": "display_data",
          "data": {
            "image/png": "[encoded data removed]",
            "text/plain": [
              "<Figure size 432x288 with 1 Axes>"
            ]
          },
          "metadata": {
            "tags": [],
            "needs_background": "light"
          }
        }
      ]
    },
    {
      "cell_type": "code",
      "metadata": {
        "colab": {
          "base_uri": "https://localhost:8080/",
          "height": 307
        },
        "id": "1pkZtAq2T9Sy",
        "outputId": "acdd2830-aa1c-40e6-a37e-beaae43ea9d2"
      },
      "source": [
        "print( ( np.mean(rf_commission).round(3), (3 * np.std(rf_commission)).round(3) ) )\n",
        "histplot(rf_commission)"
      ],
      "execution_count": null,
      "outputs": [
        {
          "output_type": "stream",
          "text": [
            "(0.103, 0.173)\n"
          ],
          "name": "stdout"
        },
        {
          "output_type": "execute_result",
          "data": {
            "text/plain": [
              "<matplotlib.axes._subplots.AxesSubplot at 0x7f3ae4c9b750>"
            ]
          },
          "metadata": {
            "tags": []
          },
          "execution_count": 17
        },
        {
          "output_type": "display_data",
          "data": {
            "image/png": "[encoded data removed]",
            "text/plain": [
              "<Figure size 432x288 with 1 Axes>"
            ]
          },
          "metadata": {
            "tags": [],
            "needs_background": "light"
          }
        }
      ]
    }
  ]
}